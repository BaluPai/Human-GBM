{
 "cells": [
  {
   "cell_type": "markdown",
   "id": "83c815ce-a0f6-4b6e-b0bf-3eafa2f41791",
   "metadata": {},
   "source": [
    "# **CellPhoneDB Final Analysis**"
   ]
  },
  {
   "cell_type": "code",
   "execution_count": 1,
   "id": "a48a1d65-8294-4a18-894c-1124f05012cc",
   "metadata": {},
   "outputs": [],
   "source": [
    "import os \n",
    "import pandas as pd \n",
    "import glob\n",
    "import sys\n",
    "import ktplotspy as kpy\n",
    "import matplotlib.pyplot as plt\n",
    "from matplotlib import cm\n",
    "import scanpy as sc\n",
    "import math\n",
    "import numpy as np\n",
    "import anndata as ad\n",
    "import seaborn as sns"
   ]
  },
  {
   "cell_type": "markdown",
   "id": "8ef8a186-8c86-4ae7-8056-66ad464ff0a6",
   "metadata": {},
   "source": [
    "## **Analysis**"
   ]
  },
  {
   "cell_type": "markdown",
   "id": "6cb181c5-fd26-4877-abb7-9f97b819b3f6",
   "metadata": {},
   "source": [
    "### **Install the database**"
   ]
  },
  {
   "cell_type": "code",
   "execution_count": 2,
   "id": "04b857e4-b8ab-4817-9049-6147c2b7f151",
   "metadata": {},
   "outputs": [
    {
     "name": "stdout",
     "output_type": "stream",
     "text": [
      "Downloaded cellphonedb.zip into v5.0.0\n",
      "Downloaded complex_input.csv into v5.0.0\n",
      "Downloaded gene_input.csv into v5.0.0\n",
      "Downloaded interaction_input.csv into v5.0.0\n",
      "Downloaded protein_input.csv into v5.0.0\n",
      "Downloaded uniprot_synonyms.tsv into v5.0.0\\sources\n",
      "Downloaded transcription_factor_input.csv into v5.0.0\\sources\n"
     ]
    }
   ],
   "source": [
    "os.chdir('C:\\\\Users\\\\emine\\\\OneDrive\\\\Desktop\\\\HillmanLab\\\\TsankovaLab\\\\dataset')\n",
    "# -- Version of the database\n",
    "cpdb_version = 'v5.0.0'\n",
    "\n",
    "# -- Path where the input files to generate the database are located\n",
    "cpdb_target_dir = os.path.join(cpdb_version)\n",
    "\n",
    "from cellphonedb.utils import db_utils\n",
    "\n",
    "db_utils.download_database(cpdb_target_dir, cpdb_version)"
   ]
  },
  {
   "cell_type": "markdown",
   "id": "72660e0e-c3ae-4b48-a84f-5ef5b5be4498",
   "metadata": {},
   "source": [
    "### **Data paths**"
   ]
  },
  {
   "cell_type": "code",
   "execution_count": 3,
   "id": "21dc26a1-172a-42c7-adb5-9b77fb0996a4",
   "metadata": {},
   "outputs": [],
   "source": [
    "cpdb_file_path = 'v5.0.0/cellphonedb.zip'\n",
    "meta_file_path = 'GBM_meta_core_100.tsv'\n",
    "counts_file_path = 'GBM_mtx_core_100'\n",
    "out_path = 'results/method2_withScore_core_100'"
   ]
  },
  {
   "cell_type": "code",
   "execution_count": 4,
   "id": "9e5008cd-e053-4233-b61b-7c4c99048522",
   "metadata": {},
   "outputs": [],
   "source": [
    "cpdb_file_path = 'v5.0.0/cellphonedb.zip'\n",
    "meta_file_path = 'GBM_meta_edge_100.tsv'\n",
    "counts_file_path = 'GBM_mtx_edge_100'\n",
    "out_path = 'results/method2_withScore_edge_100'"
   ]
  },
  {
   "cell_type": "code",
   "execution_count": null,
   "id": "183ecd60-5bc9-497f-ab71-e2e42bffd141",
   "metadata": {},
   "outputs": [],
   "source": [
    "from cellphonedb.src.core.methods import cpdb_statistical_analysis_method\n",
    "\n",
    "cpdb_results = cpdb_statistical_analysis_method.call(\n",
    "    cpdb_file_path = cpdb_file_path,                 # mandatory: CellphoneDB database zip file.\n",
    "    meta_file_path = meta_file_path,                 # mandatory: tsv file defining barcodes to cell label.\n",
    "    counts_file_path = counts_file_path,             # mandatory: normalized count matrix - a path to the counts file, or an in-memory AnnData object\n",
    "    counts_data = 'hgnc_symbol',                     # defines the gene annotation in counts matrix.\n",
    "    score_interactions = True,                       # optional: whether to score interactions or not. \n",
    "    iterations = 1000,                               # denotes the number of shufflings performed in the analysis.\n",
    "    threshold = 0.1,                                 # defines the min % of cells expressing a gene for this to be employed in the analysis.\n",
    "    threads = 5,                                     # number of threads to use in the analysis.\n",
    "    debug_seed = 42,                                 # debug randome seed. To disable >=0.\n",
    "    result_precision = 3,                            # Sets the rounding for the mean values in significan_means.\n",
    "    pvalue = 0.05,                                   # P-value threshold to employ for significance.\n",
    "    subsampling = False,                             # To enable subsampling the data (geometri sketching).\n",
    "    subsampling_log = False,                         # (mandatory) enable subsampling log1p for non log-transformed data inputs.\n",
    "    subsampling_num_pc = 100,                        # Number of componets to subsample via geometric skectching (dafault: 100).\n",
    "    subsampling_num_cells = 1000,                    # Number of cells to subsample (integer) (default: 1/3 of the dataset).\n",
    "    separator = '|',                                 # Sets the string to employ to separate cells in the results dataframes \"cellA|CellB\".\n",
    "    debug = False,                                   # Saves all intermediate tables employed during the analysis in pkl format.\n",
    "    output_path = out_path,                          # Path to save results.\n",
    "    output_suffix = None                             # Replaces the timestamp in the output files by a user defined string in the  (default: None).\n",
    "    )"
   ]
  },
  {
   "cell_type": "markdown",
   "id": "366c1d2d-6e46-48ad-8aa3-054d7dfd9d46",
   "metadata": {},
   "source": [
    "## **Visualization**"
   ]
  },
  {
   "cell_type": "markdown",
   "id": "fc056674-81ef-49d3-aef9-65b4745fea23",
   "metadata": {},
   "source": [
    "### **Load output files**"
   ]
  },
  {
   "cell_type": "code",
   "execution_count": 5,
   "id": "65f8611a-6189-4c8e-92cb-9316df7040a8",
   "metadata": {},
   "outputs": [
    {
     "name": "stderr",
     "output_type": "stream",
     "text": [
      "C:\\Users\\emine\\anaconda3\\envs\\cpdb\\lib\\site-packages\\anndata\\compat\\__init__.py:229: FutureWarning: Moving element from .uns['neighbors']['distances'] to .obsp['distances'].\n",
      "\n",
      "This is where adjacency matrices should go now.\n"
     ]
    }
   ],
   "source": [
    "#adata all\n",
    "os.chdir('C:\\\\Users\\\\dataset')\n",
    "adata = ad.read_h5ad('seurat_all.h5ad')\n",
    "anno = pd.read_csv('GBM_meta_all.tsv',sep = '\\t')\n",
    "adata.obs = anno\n",
    "\n",
    "#for edge\n",
    "os.chdir('C:\\\\Users\\\\results\\\\method2_withScore_edge_100')\n",
    "means_edge = pd.read_csv('means.txt',sep = '\\t')\n",
    "pvalues_edge = pd.read_csv('pvalues.txt', sep = '\\t')\n",
    "\n",
    "#for core\n",
    "#read files\n",
    "os.chdir('C:\\\\Users\\\\results\\\\method2_withScore_core_100')\n",
    "means_core = pd.read_csv('means.txt',sep = '\\t')\n",
    "pvalues_core = pd.read_csv('pvalues.txt', sep = '\\t')"
   ]
  },
  {
   "cell_type": "markdown",
   "id": "493d1ec0-b5c1-4c9e-ad51-db3723be5b5e",
   "metadata": {},
   "source": [
    "### **Heatmaps**"
   ]
  },
  {
   "cell_type": "code",
   "execution_count": null,
   "id": "c22aef45-1ef5-4ec0-a771-ac00ba32ceea",
   "metadata": {},
   "outputs": [],
   "source": [
    "#for core\n",
    "core_cells = ['GBM_Core', 'Oligo_Core', 'Myeloid_Core', 'BVC_Core']\n",
    "\n",
    "core_heatmap = np.zeros((4,4))\n",
    "row = -1\n",
    "for i in core_cells:\n",
    "    col = -1\n",
    "    row = row + 1\n",
    "    for j in core_cells:\n",
    "        col = col + 1\n",
    "        interaction1 = i + \"|\" + j\n",
    "        col_sig1 = pvalues_core[pvalues_core[interaction1] < 0.05].reset_index(drop=True)\n",
    "        interaction2 = j + \"|\" + i\n",
    "        col_sig2 = pvalues_core[pvalues_core[interaction2] < 0.05].reset_index(drop=True)\n",
    "        # Add 'column2' to the end of 'column1'\n",
    "        combined_column = pd.concat([col_sig1['interacting_pair'], col_sig2['interacting_pair']], ignore_index=True)\n",
    "        # Get unique elements from the combined column\n",
    "        unique_elements = combined_column.unique()\n",
    "        count = len(unique_elements)\n",
    "        core_heatmap[row,col] = count\n",
    "        core_heatmap[col,row] = count\n",
    "print(np.max(core_heatmap))        \n",
    "\n",
    "# Create a heatmap\n",
    "plt.figure(figsize=(10, 10))  # Set figure size (optional)\n",
    "sns.heatmap(core_heatmap, annot=False, cmap='viridis', vmin = 0, vmax = 268 , yticklabels = core_cells, xticklabels = core_cells, cbar=True)  # annot=True adds the data values in each cell\n",
    "plt.title(\"Number of significant interaction pairs in the core\", fontsize=16, fontweight='bold')\n",
    "plt.savefig(\"number_of_significant_interactions_in_the_core.png\", bbox_inches='tight')\n",
    "plt.savefig(\"number_of_significant_interactions_in_the_core.pdf\", format=\"pdf\", bbox_inches=\"tight\")\n",
    "plt.show()"
   ]
  },
  {
   "cell_type": "code",
   "execution_count": null,
   "id": "da574d7d-66e6-4757-aed8-61b48ead57c8",
   "metadata": {},
   "outputs": [],
   "source": [
    "#for edge\n",
    "edge_cells = ['GBM_Margin', 'In-neuron_Margin', 'Ex-neuron_Margin', 'abn-neuron_Margin', 'Astrocyte_Margin', \n",
    "              'Oligo_Margin', 'OPC_Margin', 'OL-MG_Margin','T-cell_Margin', 'Myeloid_Margin', 'BVC_Margin']\n",
    "\n",
    "\n",
    "edge_heatmap = np.zeros((11,11))\n",
    "row = -1\n",
    "for i in edge_cells:\n",
    "    col = -1\n",
    "    row = row + 1\n",
    "    for j in edge_cells:\n",
    "        col = col + 1\n",
    "        interaction1 = i + \"|\" + j\n",
    "        col_sig1 = pvalues_edge[pvalues_edge[interaction1] < 0.05].reset_index(drop=True)\n",
    "        interaction2 = j + \"|\" + i\n",
    "        col_sig2 = pvalues_edge[pvalues_edge[interaction2] < 0.05].reset_index(drop=True)\n",
    "        # Add 'column2' to the end of 'column1'\n",
    "        combined_column = pd.concat([col_sig1['interacting_pair'], col_sig2['interacting_pair']], ignore_index=True)\n",
    "        # Get unique elements from the combined column\n",
    "        unique_elements = combined_column.unique()\n",
    "        count = len(unique_elements)\n",
    "        edge_heatmap[row,col] = count\n",
    "        edge_heatmap[col,row] = count\n",
    "print(np.max(edge_heatmap))          \n",
    "# Create a heatmap\n",
    "plt.figure(figsize=(10, 10))  # Set figure size (optional)\n",
    "sns.heatmap(edge_heatmap, annot=False, cmap='viridis', vmin = 0, vmax = 268, yticklabels = edge_cells, xticklabels = edge_cells, cbar=True)  # annot=True adds the data values in each cell\n",
    "plt.title(\"Number of significant interaction pairs in the edge\", fontsize=16, fontweight='bold')\n",
    "plt.savefig(\"number_of_significant_interactions_in_the_edge.png\", bbox_inches='tight')\n",
    "plt.savefig(\"number_of_significant_interactions_in_the_edge.pdf\", format=\"pdf\", bbox_inches=\"tight\")\n",
    "plt.show()"
   ]
  },
  {
   "cell_type": "markdown",
   "id": "cd02974a-e3d7-4709-8f41-b772cb62c05f",
   "metadata": {},
   "source": [
    "### **Dot plots**"
   ]
  },
  {
   "cell_type": "markdown",
   "id": "201f1269-6a9d-4813-84c5-e465a66d816d",
   "metadata": {},
   "source": [
    "### **Pick interesting interactions**"
   ]
  },
  {
   "cell_type": "code",
   "execution_count": null,
   "id": "9ff4126c-ec45-410e-8626-bf15332706cf",
   "metadata": {},
   "outputs": [],
   "source": [
    "#interactions for dotplot\n",
    "egfr_interactions = [\"NRG2_ERBB3\", \"BTC_EGFR\", \"EREG_EGFR\", \"HBEGF_ERBB4\", \"NRG2_ERBB4\", \n",
    "                     \"EPGN_EGFR\", \"EGF_EGFR\", \"AREG_EGFR\", \"NRG1_ERBB4\", \"NRG1_integrin_a6b4_complex\", \n",
    "                     \"NRG4_ERBB4\", \"BTC_ERBB4\", \"NRG1_ERBB3\", \"HBEGF_ERBB2\", \"HBEGF_EGFR\", \n",
    "                     \"BTC_ERBB3\", \"EREG_ERBB4\", \"NRG3_ERBB4\", \"TGFA_EGFR\"]\n",
    "\n",
    "NOTCH_interactions = [\n",
    "    \"CNTN1_NOTCH1\", \"CNTN1_NOTCH2\", \"CNTN1_NRCAM\", \"DLL1_NOTCH1\", \"DLL1_NOTCH2\", \"DLL1_NOTCH3\", \n",
    "    \"DLL1_NOTCH4\", \"DLL3_NOTCH1\", \"DLL3_NOTCH2\", \"DLL3_NOTCH3\", \"DLL3_NOTCH4\", \"JAG1_NOTCH1\", \n",
    "    \"JAG1_NOTCH2\", \"JAG1_NOTCH3\", \"JAG1_NOTCH4\", \"JAG2_NOTCH1\", \"JAG2_NOTCH2\", \"JAG2_NOTCH3\", \n",
    "    \"JAG2_NOTCH4\"]\n",
    "\n",
    "WNT_interactions = [\"WNT2B_WIF1\", \"WNT2B_FRZB\", \"WNT5A_FRZB\", \"WNT5B_FRZB\", \"WNT5A_ROR1\", \n",
    "    \"WNT5A_ROR2\",\"WNT5A_WIF1\", \"WNT5B_WIF1\", \"WNT7B_WIF1\", \"WNT2B_FZD3_LRP5\", \"WNT2B_FZD3_LRP6\", \n",
    "    \"WNT2B_FZD4_LRP5\", \"WNT2B_FZD4_LRP6\", \"WNT2B_FZD6_LRP5\", \"WNT2B_FZD6_LRP6\", \"WNT5A_FZD3_LRP5\", \n",
    "    \"WNT5A_FZD3_LRP6\", \"WNT5A_FZD4_LRP5\", \"WNT5A_FZD4_LRP6\", \"WNT5A_FZD6_LRP5\", \"WNT5A_FZD6_LRP6\", \n",
    "    \"WNT5B_FZD3_LRP5\", \"WNT5B_FZD3_LRP6\", \"WNT5B_FZD4_LRP5\", \"WNT5B_FZD4_LRP6\", \"WNT5B_FZD6_LRP5\", \n",
    "    \"WNT5B_FZD6_LRP6\", \"WNT7B_FZD3_LRP5\", \"WNT7B_FZD4_LRP6\", \"WNT7B_FZD6_LRP5\", \"WNT7B_FZD6_LRP6\"]\n",
    "\n",
    "interesting_interactions1 = [\"PTN_PTPRZ1\", \"MDK_PTPRZ1\", \"LGALS3_MERTK\", \"HLA-E_VSIR\", \"HLA-E_CD94:NKG2C\", \n",
    "    \"FBN1_integrin_a5b1_complex\", \"FN1_integrin_a8b1_complex\", \"TNC_integrin_a8b1_complex\", \n",
    "    \"GJA1_GJA1\", \"TNC_integrin_a9b1_complex\", \"COL3A1_integrin_a10b1_complex\", \n",
    "    \"COL4A1_integrin_a11b1_complex\", \"COL5A2_integrin_a10b1_complex\", \n",
    "    \"COL5A3_integrin_a11b1_complex\", \"COL6A1_integrin_a10b1_complex\", \n",
    "    \"COL7A1_integrin_a10b1_complex\", \"COL7A1_integrin_a11b1_complex\", \n",
    "    \"COL9A3_integrin_a11b1_complex\"]\n",
    "\n",
    "interesting_interactions2 = [\"integrin_aVb1_complex_ADGRE5\", \n",
    "    \"FN1_integrin_a10b1_complex\", \"GABA_byGAD1_and_SLC6A1_GABBR1\", \"GDF11_TGFR_AVR2A\", \n",
    "    \"Glutamate_byGLS_and_SLC1A1_Glutamate_Kainate_1_5_complex\", \n",
    "    \"Glutamate_byGLS_and_SLC1A1_Glutamate_Kainate_2_5_complex\", \n",
    "    \"Glutamate_byGLS_and_SLC1A1_Glutamate_Kainate_3_5_complex\", \n",
    "    \"Glutamate_byGLS_and_SLC1A1_Glutamate_NMDA_1_2D_complex\", \n",
    "    \"Glutamate_byGLS_and_SLC17A7_GRM3\", \"Glutamate_byGLS_and_SLC1A2_GRM3\", \n",
    "    \"GDF11_TGFR_AVR2B\", \"MDK_ALK\", \"TENM1_ADGRL1\", \"NRG3_ERBB4\", \"JAG1_VASN\", \n",
    "    \"JAG2_VASN\", \"IGFBP3_TMEM219\"]  \n",
    "\n",
    "all_cells = edge_cells + core_cells "
   ]
  },
  {
   "cell_type": "markdown",
   "id": "4a8b4312-dc09-41d4-acd4-a7acb111c0d0",
   "metadata": {},
   "source": [
    "### **Plot for interactions involving GBM cells**"
   ]
  },
  {
   "cell_type": "code",
   "execution_count": null,
   "id": "557cfc7d-0543-4028-8333-21517ff10278",
   "metadata": {},
   "outputs": [],
   "source": [
    "# Replace the genes variable in the plot_cpdb to get outputs for specific list of interactions\n",
    "\n",
    "all_cells = [\"GBM_Margin|In-neuron_Margin|Ex-neuron_Margin|abn-neuron_Margin|Astrocyte_Margin|Oligo_Margin|OPC_Margin|OL-MG_Margin|T-cell_Margin|Myeloid_Margin|BVC_Margin|GBM_Core|Oligo_Core|Myeloid_Core|BVC_Core\"]\n",
    "\n",
    "pvalues_core_sub =  pvalues_core[pvalues_core['interacting_pair'].isin(egfr_interactions)].copy().reset_index(drop=True)\n",
    "pvalues_edge_sub = pvalues_edge[pvalues_edge['interacting_pair'].isin(egfr_interactions)].copy().reset_index(drop=True)\n",
    "\n",
    "means_core_sub = means_core[means_core['interacting_pair'].isin(egfr_interactions)].copy().reset_index(drop=True)\n",
    "means_edge_sub = means_edge[means_edge['interacting_pair'].isin(egfr_interactions)].copy().reset_index(drop=True)\n",
    "\n",
    "p_concat = pd.concat([pvalues_edge_sub.iloc[:,:13],pvalues_edge_sub.filter(like=\"GBM\",axis=1),pvalues_core_sub.filter(like=\"GBM\",axis=1)],axis =1)\n",
    "    \n",
    "# Concatenating the relevant columns\n",
    "m_concat = pd.concat([means_edge_sub.iloc[:, :13], means_edge_sub.filter(like=\"GBM\",axis=1), means_core_sub.filter(like=\"GBM\",axis=1)], axis=1)\n",
    "\n",
    "#dotplot with all cells\n",
    "# cell names are all_cells\n",
    "p = kpy.plot_cpdb(\n",
    "        adata = adata,\n",
    "        cell_type1 = all_cells,\n",
    "        cell_type2 = all_cells,\n",
    "        means = m_concat,\n",
    "        pvals = p_concat,\n",
    "        celltype_key = \"CellType.CI\",\n",
    "        genes = egfr_interactions,\n",
    "        figsize = (15, 15),\n",
    "        title = \"EGFR Interactions\",\n",
    "        max_size = 10,\n",
    "        highlight_size = 1.5,\n",
    "        degs_analysis = False,\n",
    "        standard_scale = True,\n",
    "        interaction_scores = None,\n",
    "        scale_alpha_by_interaction_scores = False,\n",
    "        keep_significant_only = False\n",
    "    )\n",
    "p.save(\"egfr_only_GBM_dotplot_scaled.png\", bbox_inches='tight')\n",
    "p.save(\"egfr_only_GBM_dotplot_scaled.pdf\", format = \"pdf\", bbox_inches='tight')"
   ]
  }
 ],
 "metadata": {
  "kernelspec": {
   "display_name": "cpdb",
   "language": "python",
   "name": "cpdb"
  },
  "language_info": {
   "codemirror_mode": {
    "name": "ipython",
    "version": 3
   },
   "file_extension": ".py",
   "mimetype": "text/x-python",
   "name": "python",
   "nbconvert_exporter": "python",
   "pygments_lexer": "ipython3",
   "version": "3.8.20"
  }
 },
 "nbformat": 4,
 "nbformat_minor": 5
}
